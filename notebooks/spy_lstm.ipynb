{
 "cells": [
  {
   "cell_type": "code",
   "execution_count": 19,
   "metadata": {
    "collapsed": true
   },
   "outputs": [],
   "source": [
    "%matplotlib inline\n",
    "\n",
    "import math\n",
    "import time\n",
    "import numpy as np\n",
    "import pandas as pd\n",
    "import pandas_datareader as pdr\n",
    "\n",
    "import keras\n",
    "from keras.layers import LSTM\n",
    "from keras.models import Sequential\n",
    "from keras.layers.wrappers import TimeDistributed\n",
    "from keras.layers.core import Dense, Activation, Dropout\n",
    "from keras.preprocessing.sequence import pad_sequences\n",
    "\n",
    "from sklearn.metrics import mean_squared_error"
   ]
  },
  {
   "cell_type": "code",
   "execution_count": 2,
   "metadata": {
    "collapsed": true
   },
   "outputs": [],
   "source": [
    "import seaborn as sns\n",
    "import matplotlib.pyplot as plt\n",
    "\n",
    "sns.set_style('whitegrid')\n",
    "sns.set_context('talk')\n",
    "\n",
    "params = {'legend.fontsize': 'x-large',\n",
    "          'figure.figsize': (15, 5),\n",
    "          'axes.labelsize': 'x-large',\n",
    "          'axes.titlesize':'x-large',\n",
    "          'xtick.labelsize':'x-large',\n",
    "          'ytick.labelsize':'x-large'}\n",
    "\n",
    "plt.rcParams.update(params)"
   ]
  },
  {
   "cell_type": "markdown",
   "metadata": {},
   "source": [
    "## Set Parameters"
   ]
  },
  {
   "cell_type": "code",
   "execution_count": 4,
   "metadata": {
    "collapsed": true
   },
   "outputs": [],
   "source": [
    "# get stock price information \n",
    "def get_stock_data(index_name, start, end, retry_attempts = 3):   \n",
    "    if index_name:\n",
    "        while retry_attempts > 0 :\n",
    "            try:\n",
    "                df = pdr.get_data_yahoo(index_name, start, end)\n",
    "                new_df = df.reindex(index=pd.date_range(df.index.min(), \n",
    "                                          df.index.max(), \n",
    "                                          freq='D')).fillna(method='ffill')\n",
    "                retry_attempts = 0\n",
    "                return new_df\n",
    "            except Exception  as e:\n",
    "                print(\"Data pull failed for {}. {} retry attempts remaining\".\\\n",
    "                      format(e, retry_attempts))\n",
    "                retry_attempts = retry_attempts - 1\n",
    "    else:\n",
    "        print(\"Invalid usage. Parameter index_name is required\")\n",
    "    return None"
   ]
  },
  {
   "cell_type": "markdown",
   "metadata": {},
   "source": [
    "## Getting Data"
   ]
  },
  {
   "cell_type": "code",
   "execution_count": 5,
   "metadata": {
    "collapsed": true
   },
   "outputs": [],
   "source": [
    "import datetime\n",
    "\n",
    "STOCK_INDEX = '^GSPC'\n",
    "\n",
    "start = datetime.datetime(1970, 1, 1)\n",
    "end = datetime.datetime(2018, 8, 12)\n",
    "sp_df = get_stock_data(STOCK_INDEX, start, end)"
   ]
  },
  {
   "cell_type": "code",
   "execution_count": 6,
   "metadata": {},
   "outputs": [
    {
     "data": {
      "text/html": [
       "<div>\n",
       "<style scoped>\n",
       "    .dataframe tbody tr th:only-of-type {\n",
       "        vertical-align: middle;\n",
       "    }\n",
       "\n",
       "    .dataframe tbody tr th {\n",
       "        vertical-align: top;\n",
       "    }\n",
       "\n",
       "    .dataframe thead th {\n",
       "        text-align: right;\n",
       "    }\n",
       "</style>\n",
       "<table border=\"1\" class=\"dataframe\">\n",
       "  <thead>\n",
       "    <tr style=\"text-align: right;\">\n",
       "      <th></th>\n",
       "      <th>High</th>\n",
       "      <th>Low</th>\n",
       "      <th>Open</th>\n",
       "      <th>Close</th>\n",
       "      <th>Volume</th>\n",
       "      <th>Adj Close</th>\n",
       "    </tr>\n",
       "  </thead>\n",
       "  <tbody>\n",
       "    <tr>\n",
       "      <th>count</th>\n",
       "      <td>17753.000000</td>\n",
       "      <td>17753.000000</td>\n",
       "      <td>17753.000000</td>\n",
       "      <td>17753.000000</td>\n",
       "      <td>1.775300e+04</td>\n",
       "      <td>17753.000000</td>\n",
       "    </tr>\n",
       "    <tr>\n",
       "      <th>mean</th>\n",
       "      <td>765.252545</td>\n",
       "      <td>756.028657</td>\n",
       "      <td>760.783754</td>\n",
       "      <td>760.967160</td>\n",
       "      <td>1.267919e+09</td>\n",
       "      <td>760.967160</td>\n",
       "    </tr>\n",
       "    <tr>\n",
       "      <th>std</th>\n",
       "      <td>685.716939</td>\n",
       "      <td>679.008065</td>\n",
       "      <td>682.495920</td>\n",
       "      <td>682.610913</td>\n",
       "      <td>1.693359e+09</td>\n",
       "      <td>682.610913</td>\n",
       "    </tr>\n",
       "    <tr>\n",
       "      <th>min</th>\n",
       "      <td>63.230000</td>\n",
       "      <td>60.959999</td>\n",
       "      <td>62.279999</td>\n",
       "      <td>62.279999</td>\n",
       "      <td>6.650000e+06</td>\n",
       "      <td>62.279999</td>\n",
       "    </tr>\n",
       "    <tr>\n",
       "      <th>25%</th>\n",
       "      <td>131.740005</td>\n",
       "      <td>129.039993</td>\n",
       "      <td>130.339996</td>\n",
       "      <td>130.479996</td>\n",
       "      <td>5.460000e+07</td>\n",
       "      <td>130.479996</td>\n",
       "    </tr>\n",
       "    <tr>\n",
       "      <th>50%</th>\n",
       "      <td>462.470001</td>\n",
       "      <td>459.510010</td>\n",
       "      <td>461.269989</td>\n",
       "      <td>461.279999</td>\n",
       "      <td>2.873700e+08</td>\n",
       "      <td>461.279999</td>\n",
       "    </tr>\n",
       "    <tr>\n",
       "      <th>75%</th>\n",
       "      <td>1259.839966</td>\n",
       "      <td>1240.709961</td>\n",
       "      <td>1252.000000</td>\n",
       "      <td>1251.699951</td>\n",
       "      <td>2.259130e+09</td>\n",
       "      <td>1251.699951</td>\n",
       "    </tr>\n",
       "    <tr>\n",
       "      <th>max</th>\n",
       "      <td>2872.870117</td>\n",
       "      <td>2855.919922</td>\n",
       "      <td>2867.229980</td>\n",
       "      <td>2872.870117</td>\n",
       "      <td>1.145623e+10</td>\n",
       "      <td>2872.870117</td>\n",
       "    </tr>\n",
       "  </tbody>\n",
       "</table>\n",
       "</div>"
      ],
      "text/plain": [
       "               High           Low          Open         Close        Volume  \\\n",
       "count  17753.000000  17753.000000  17753.000000  17753.000000  1.775300e+04   \n",
       "mean     765.252545    756.028657    760.783754    760.967160  1.267919e+09   \n",
       "std      685.716939    679.008065    682.495920    682.610913  1.693359e+09   \n",
       "min       63.230000     60.959999     62.279999     62.279999  6.650000e+06   \n",
       "25%      131.740005    129.039993    130.339996    130.479996  5.460000e+07   \n",
       "50%      462.470001    459.510010    461.269989    461.279999  2.873700e+08   \n",
       "75%     1259.839966   1240.709961   1252.000000   1251.699951  2.259130e+09   \n",
       "max     2872.870117   2855.919922   2867.229980   2872.870117  1.145623e+10   \n",
       "\n",
       "          Adj Close  \n",
       "count  17753.000000  \n",
       "mean     760.967160  \n",
       "std      682.610913  \n",
       "min       62.279999  \n",
       "25%      130.479996  \n",
       "50%      461.279999  \n",
       "75%     1251.699951  \n",
       "max     2872.870117  "
      ]
     },
     "execution_count": 6,
     "metadata": {},
     "output_type": "execute_result"
    }
   ],
   "source": [
    "sp_df.describe()"
   ]
  },
  {
   "cell_type": "code",
   "execution_count": 184,
   "metadata": {},
   "outputs": [
    {
     "name": "stderr",
     "output_type": "stream",
     "text": [
      "C:\\local\\Anaconda3-4.1.1-Windows-x86_64\\envs\\tensorflow\\lib\\site-packages\\ipykernel_launcher.py:2: FutureWarning: fill_method is deprecated to .resample()\n",
      "the new syntax is .resample(...).ffill()\n",
      "  \n"
     ]
    },
    {
     "data": {
      "text/plain": [
       "<matplotlib.axes._subplots.AxesSubplot at 0x21b3a7968d0>"
      ]
     },
     "execution_count": 184,
     "metadata": {},
     "output_type": "execute_result"
    },
    {
     "data": {
      "image/png": "[encoded data removed]",
      "text/plain": [
       "<matplotlib.figure.Figure at 0x21b3a7a6e80>"
      ]
     },
     "metadata": {},
     "output_type": "display_data"
    }
   ],
   "source": [
    "sp_close_series = sp_df.Close/4000.0\n",
    "sp_close_series = sp_close_series.resample('W', fill_method='ffill')\n",
    "sp_close_series.plot()"
   ]
  },
  {
   "cell_type": "code",
   "execution_count": 185,
   "metadata": {},
   "outputs": [
    {
     "data": {
      "text/plain": [
       "2537"
      ]
     },
     "execution_count": 185,
     "metadata": {},
     "output_type": "execute_result"
    }
   ],
   "source": [
    "len(sp_close_series)"
   ]
  },
  {
   "cell_type": "code",
   "execution_count": 186,
   "metadata": {
    "collapsed": true
   },
   "outputs": [],
   "source": [
    "my_data = sp_close_series.values"
   ]
  },
  {
   "cell_type": "code",
   "execution_count": 187,
   "metadata": {
    "collapsed": true
   },
   "outputs": [],
   "source": [
    "my_data = my_data[..., np.newaxis]\n"
   ]
  },
  {
   "cell_type": "code",
   "execution_count": 188,
   "metadata": {},
   "outputs": [
    {
     "data": {
      "text/plain": [
       "array([[0.66021753],\n",
       "       [0.65111749],\n",
       "       [0.66407501],\n",
       "       [0.66753497],\n",
       "       [0.66747748],\n",
       "       [0.66585498],\n",
       "       [0.68192999],\n",
       "       [0.67824249],\n",
       "       [0.68033252],\n",
       "       [0.68365503],\n",
       "       [0.69475751],\n",
       "       [0.69491498],\n",
       "       [0.68871997],\n",
       "       [0.67959253],\n",
       "       [0.68995502],\n",
       "       [0.70032751],\n",
       "       [0.70045752],\n",
       "       [0.70470502],\n",
       "       [0.71008752],\n",
       "       [0.70832001]])"
      ]
     },
     "execution_count": 188,
     "metadata": {},
     "output_type": "execute_result"
    }
   ],
   "source": [
    "my_data[-20:]"
   ]
  },
  {
   "cell_type": "markdown",
   "metadata": {},
   "source": [
    "## Preprocessing Data"
   ]
  },
  {
   "cell_type": "code",
   "execution_count": 251,
   "metadata": {
    "collapsed": true
   },
   "outputs": [],
   "source": [
    "from sklearn.preprocessing import MinMaxScaler\n",
    "\n",
    "# prepare training and testing data sets for LSTM based sequence modeling\n",
    "def get_seq_train_test(time_series, splits=[-1, 0, 52]):\n",
    "    validation_size = splits[1]\n",
    "    test_size = splits[2]\n",
    "    train_size = len(time_series) - validation_size - test_size\n",
    "    \n",
    "    train = time_series[0:train_size]\n",
    "    validation = time_series[train_size:train_size+validation_size]\n",
    "    test = time_series[validation_size+test_size:]\n",
    "    \n",
    "    return train, validation, test"
   ]
  },
  {
   "cell_type": "code",
   "execution_count": 252,
   "metadata": {},
   "outputs": [
    {
     "name": "stdout",
     "output_type": "stream",
     "text": [
      "Data Split Complete\n",
      "train_x shape=(1, 2484, 1)\n",
      "train_y shape=(1, 2484, 1)\n",
      "validation_x shape=(1, 0, 1)\n",
      "validation_y shape=(1, 0, 1)\n",
      "test_x shape=(1, 2484, 1)\n",
      "test_y shape=(1, 2484, 1)\n"
     ]
    }
   ],
   "source": [
    "# split train and test datasets\n",
    "train, validation, test = get_seq_train_test(my_data)\n",
    "\n",
    "train = np.reshape(train, (1, train.shape[0], 1))\n",
    "validation = np.reshape(validation, (1, validation.shape[0], 1))\n",
    "test = np.reshape(test, (1, test.shape[0], 1))\n",
    "\n",
    "train_x = train[:,:-1,:]\n",
    "train_y = train[:,1:,:]\n",
    "\n",
    "validation_x = validation[:,:-1,:]\n",
    "validation_y = validation[:,1:,:]\n",
    "\n",
    "test_x = test[:,:-1,:]\n",
    "test_y = test[:,1:,:]\n",
    "\n",
    "print(\"Data Split Complete\")\n",
    "\n",
    "print(\"train_x shape={}\".format(train_x.shape))\n",
    "print(\"train_y shape={}\".format(train_y.shape))\n",
    "\n",
    "print(\"validation_x shape={}\".format(validation_x.shape))\n",
    "print(\"validation_y shape={}\".format(validation_y.shape))\n",
    "\n",
    "print(\"test_x shape={}\".format(test_x.shape))\n",
    "print(\"test_y shape={}\".format(test_y.shape))"
   ]
  },
  {
   "cell_type": "markdown",
   "metadata": {},
   "source": [
    "## Prepare LSTM Model"
   ]
  },
  {
   "cell_type": "code",
   "execution_count": 253,
   "metadata": {
    "collapsed": true
   },
   "outputs": [],
   "source": [
    "# Get stacked LSTM model for sequence modeling\n",
    "def create_seq_model(hidden_units=4, input_shape=(1,1)):\n",
    "    # create and fit the LSTM network\n",
    "    model = Sequential()\n",
    "    # samples*timesteps*featuress\n",
    "\n",
    "    model.add(LSTM(input_shape=input_shape, \n",
    "                   units = hidden_units, \n",
    "                   return_sequences=True\n",
    "    ))\n",
    "    \n",
    "    # readout layer. TimeDistributedDense uses the same weights for all\n",
    "    # time steps.\n",
    "    model.add(TimeDistributed(Dense(1)))\n",
    "\n",
    "    return model"
   ]
  },
  {
   "cell_type": "code",
   "execution_count": 254,
   "metadata": {},
   "outputs": [
    {
     "name": "stdout",
     "output_type": "stream",
     "text": [
      "_________________________________________________________________\n",
      "Layer (type)                 Output Shape              Param #   \n",
      "=================================================================\n",
      "lstm_12 (LSTM)               (None, 2484, 4)           96        \n",
      "_________________________________________________________________\n",
      "time_distributed_12 (TimeDis (None, 2484, 1)           5         \n",
      "=================================================================\n",
      "Total params: 101\n",
      "Trainable params: 101\n",
      "Non-trainable params: 0\n",
      "_________________________________________________________________\n",
      "None\n"
     ]
    }
   ],
   "source": [
    "# build RNN model\n",
    "seq_lstm_model = create_seq_model(input_shape=(train_x.shape[1], 1))\n",
    "print(seq_lstm_model.summary())"
   ]
  },
  {
   "cell_type": "markdown",
   "metadata": {},
   "source": [
    "## Fit the Model"
   ]
  },
  {
   "cell_type": "code",
   "execution_count": 255,
   "metadata": {
    "collapsed": true
   },
   "outputs": [],
   "source": [
    "# Pad input sequence\n",
    "validation_x = pad_sequences(validation_x,\n",
    "                                maxlen=train_x.shape[1],\n",
    "                                padding='post',\n",
    "                                dtype='float64')\n",
    "\n",
    "validation_y = pad_sequences(validation_y,\n",
    "                                maxlen=train_y.shape[1],\n",
    "                                padding='post',\n",
    "                                dtype='float64')"
   ]
  },
  {
   "cell_type": "code",
   "execution_count": 256,
   "metadata": {
    "scrolled": true
   },
   "outputs": [
    {
     "name": "stdout",
     "output_type": "stream",
     "text": [
      "Epoch 1/20\n",
      " - 3s - loss: 0.0531\n",
      "Epoch 2/20\n",
      " - 1s - loss: 0.0206\n",
      "Epoch 3/20\n",
      " - 1s - loss: 0.0136\n",
      "Epoch 4/20\n",
      " - 1s - loss: 0.0108\n",
      "Epoch 5/20\n",
      " - 1s - loss: 0.0080\n",
      "Epoch 6/20\n",
      " - 1s - loss: 0.0053\n",
      "Epoch 7/20\n",
      " - 1s - loss: 0.0028\n",
      "Epoch 8/20\n",
      " - 1s - loss: 0.0010\n",
      "Epoch 9/20\n",
      " - 1s - loss: 3.6467e-04\n",
      "Epoch 10/20\n",
      " - 1s - loss: 0.0013\n",
      "Epoch 11/20\n",
      " - 1s - loss: 0.0070\n",
      "Epoch 12/20\n",
      " - 1s - loss: 0.0045\n",
      "Epoch 13/20\n",
      " - 1s - loss: 0.0036\n",
      "Epoch 14/20\n",
      " - 1s - loss: 8.5273e-04\n",
      "Epoch 15/20\n",
      " - 1s - loss: 5.0179e-04\n",
      "Epoch 16/20\n",
      " - 1s - loss: 3.3687e-04\n",
      "Epoch 17/20\n",
      " - 1s - loss: 3.1271e-04\n",
      "Epoch 18/20\n",
      " - 1s - loss: 3.0906e-04\n",
      "Epoch 19/20\n",
      " - 1s - loss: 3.6973e-04\n",
      "Epoch 20/20\n",
      " - 1s - loss: 4.5810e-04\n"
     ]
    },
    {
     "data": {
      "text/plain": [
       "<keras.callbacks.History at 0x21b35003630>"
      ]
     },
     "execution_count": 256,
     "metadata": {},
     "output_type": "execute_result"
    }
   ],
   "source": [
    "# train the model\n",
    "# use eatrly stopping to avoid overfitting    \n",
    "lr = 0.01\n",
    "\n",
    "optimizer = keras.optimizers.RMSprop(lr=lr)\n",
    "seq_lstm_model.compile(loss=\"mse\", optimizer=optimizer)\n",
    "\n",
    "# callbacks = [keras.callbacks.EarlyStopping(monitor='val_loss',\n",
    "#                                           patience=5,\n",
    "#                                           verbose=0)]\n",
    "\n",
    "seq_lstm_model.fit(train_x, train_y, \n",
    "#                   validation_data = [validation_x, validation_y],\n",
    "#                   callbacks=callbacks,\n",
    "                   epochs=20, \n",
    "                   batch_size=1, \n",
    "                   verbose=2)"
   ]
  },
  {
   "cell_type": "markdown",
   "metadata": {},
   "source": [
    "## Train Prediction Performance"
   ]
  },
  {
   "cell_type": "code",
   "execution_count": 257,
   "metadata": {},
   "outputs": [
    {
     "name": "stdout",
     "output_type": "stream",
     "text": [
      "Train Score: 0.03 RMSE\n"
     ]
    }
   ],
   "source": [
    "# train fit performance\n",
    "trainPredict = seq_lstm_model.predict(train_x)\n",
    "trainScore = math.sqrt(mean_squared_error(train_y[0], trainPredict[0]))\n",
    "print('Train Score: %.2f RMSE' % (trainScore))"
   ]
  },
  {
   "cell_type": "markdown",
   "metadata": {},
   "source": [
    "## Test Prediction Performance"
   ]
  },
  {
   "cell_type": "code",
   "execution_count": 258,
   "metadata": {
    "collapsed": true
   },
   "outputs": [],
   "source": [
    "# Pad input sequence\n",
    "testPredict = pad_sequences(test_x,\n",
    "                                maxlen=train_x.shape[1],\n",
    "                                padding='post',                            \n",
    "                                dtype='float64')"
   ]
  },
  {
   "cell_type": "code",
   "execution_count": 259,
   "metadata": {},
   "outputs": [
    {
     "name": "stdout",
     "output_type": "stream",
     "text": [
      "Test Score: 0.03 RMSE\n"
     ]
    }
   ],
   "source": [
    "# forecast values\n",
    "testPredict = seq_lstm_model.predict(testPredict)\n",
    "\n",
    "# evaluate performances\n",
    "testScore = math.sqrt(mean_squared_error(test_y[0], \n",
    "                                         testPredict[0][:test_x.shape[1]]))\n",
    "print('Test Score: %.2f RMSE' % (testScore))"
   ]
  },
  {
   "cell_type": "markdown",
   "metadata": {},
   "source": [
    "## Plot Test Predictions"
   ]
  },
  {
   "cell_type": "code",
   "execution_count": 260,
   "metadata": {
    "collapsed": true
   },
   "outputs": [],
   "source": [
    "# Pad input sequence\n",
    "test = my_data[-52*2:]\n",
    "test = np.reshape(test, (1, test.shape[0], 1))\n",
    "\n",
    "testPredict = pad_sequences(test,\n",
    "                                maxlen=train_x.shape[1],\n",
    "                                padding='post',                            \n",
    "                                dtype='float64')"
   ]
  },
  {
   "cell_type": "code",
   "execution_count": 261,
   "metadata": {},
   "outputs": [
    {
     "name": "stdout",
     "output_type": "stream",
     "text": [
      "(1, 104, 1)\n"
     ]
    }
   ],
   "source": [
    "print(test.shape)"
   ]
  },
  {
   "cell_type": "code",
   "execution_count": 262,
   "metadata": {
    "collapsed": true
   },
   "outputs": [],
   "source": [
    "# forecast values\n",
    "testPredict = seq_lstm_model.predict(testPredict)"
   ]
  },
  {
   "cell_type": "code",
   "execution_count": 263,
   "metadata": {
    "collapsed": true
   },
   "outputs": [],
   "source": [
    "# # inverse transformation\n",
    "# trainPredict = scaler.inverse_transform(trainPredict.\\\n",
    "#                                         reshape((trainPredict.shape[1], trainPredict.shape[2])))\n",
    "# testPredict = scaler.inverse_transform(testPredict.\\\n",
    "#                                        reshape((testPredict.shape[1], testPredict.shape[2])))\n",
    "\n",
    "trainPlot = trainPredict.reshape((trainPredict.shape[1], trainPredict.shape[2]))*4000\n",
    "testPlot = testPredict.reshape((testPredict.shape[1], testPredict.shape[2]))*4000"
   ]
  },
  {
   "cell_type": "code",
   "execution_count": 266,
   "metadata": {},
   "outputs": [
    {
     "name": "stdout",
     "output_type": "stream",
     "text": [
      "[[2205.9678]\n",
      " [2213.148 ]\n",
      " [2216.8096]\n",
      " [2216.484 ]\n",
      " [2221.6785]\n",
      " [2230.3037]\n",
      " [2237.4153]\n",
      " [2241.194 ]\n",
      " [2243.8809]\n",
      " [2252.5676]\n",
      " [2261.1   ]\n",
      " [2265.6414]\n",
      " [2270.6643]\n",
      " [2275.9036]\n",
      " [2277.8303]\n",
      " [2281.2188]\n",
      " [2289.5242]\n",
      " [2296.0684]\n",
      " [2300.7795]\n",
      " [2305.8535]]\n",
      "[[2302.9622]\n",
      " [2306.717 ]\n",
      " [2313.7676]\n",
      " [2314.7136]\n",
      " [2323.1104]\n",
      " [2327.4158]\n",
      " [2333.8948]\n",
      " [2342.876 ]\n",
      " [2348.882 ]\n",
      " [2357.475 ]\n",
      " [2364.1453]\n",
      " [2370.7622]\n",
      " [2375.3035]\n",
      " [2379.4478]\n",
      " [2387.1782]\n",
      " [2398.087 ]\n",
      " [2405.6746]\n",
      " [2415.4658]\n",
      " [2423.1804]\n",
      " [2428.0278]\n",
      " [2443.9211]\n",
      " [2458.0776]\n",
      " [2470.4688]\n",
      " [2488.7356]\n",
      " [2482.7095]\n",
      " [2466.9617]\n",
      " [2483.2766]\n",
      " [2488.8604]\n",
      " [2484.3323]\n",
      " [2499.9045]\n",
      " [2499.2703]\n",
      " [2477.9204]\n",
      " [2482.4202]\n",
      " [2475.3132]\n",
      " [2480.2485]\n",
      " [2481.4746]\n",
      " [2481.2405]\n",
      " [2480.0493]\n",
      " [2489.1702]\n",
      " [2488.8809]\n",
      " [2491.4978]\n",
      " [2495.005 ]\n",
      " [2503.5193]\n",
      " [2507.0144]\n",
      " [2506.6226]\n",
      " [2503.3723]\n",
      " [2510.153 ]\n",
      " [2518.2302]\n",
      " [2521.634 ]\n",
      " [2527.2915]\n",
      " [2533.8997]\n",
      " [2536.778 ]\n",
      " [2088.6147]\n",
      " [1924.3822]]\n"
     ]
    }
   ],
   "source": [
    "print(trainPlot[-20:])\n",
    "print(testPlot[52:106])"
   ]
  },
  {
   "cell_type": "code",
   "execution_count": 267,
   "metadata": {},
   "outputs": [
    {
     "name": "stdout",
     "output_type": "stream",
     "text": [
      "Train size 2485 test size 104\n"
     ]
    },
    {
     "data": {
      "image/png": "[encoded data removed]",
      "text/plain": [
       "<matplotlib.figure.Figure at 0x21b4361a358>"
      ]
     },
     "metadata": {},
     "output_type": "display_data"
    }
   ],
   "source": [
    "# plot the true and forecasted values\n",
    "shift = 1\n",
    "train_size = train_x.shape[1] + shift\n",
    "test_size = test.shape[1]\n",
    "print('Train size %d test size %d' % (train_size, test_size))\n",
    "#print(testPredict[52:52*2])\n",
    "\n",
    "plt.plot(sp_close_series.index,\n",
    "         sp_close_series.values*4000,c='black',\n",
    "         alpha=0.3,label='True Data')\n",
    "\n",
    "plt.plot(sp_close_series.index[1:train_size],\n",
    "         trainPlot, label='Training Fit',c='g')\n",
    "\n",
    "plt.plot(sp_close_series.index[-test_size+52:],\n",
    "         testPlot[52:test_size],label='Testing Forecast')\n",
    "\n",
    "plt.title('Forecast Plot')\n",
    "plt.legend()\n",
    "plt.show()\n"
   ]
  },
  {
   "cell_type": "code",
   "execution_count": null,
   "metadata": {
    "collapsed": true
   },
   "outputs": [],
   "source": []
  }
 ],
 "metadata": {
  "anaconda-cloud": {},
  "kernelspec": {
   "display_name": "Python 3",
   "language": "python",
   "name": "python3"
  },
  "language_info": {
   "codemirror_mode": {
    "name": "ipython",
    "version": 3
   },
   "file_extension": ".py",
   "mimetype": "text/x-python",
   "name": "python",
   "nbconvert_exporter": "python",
   "pygments_lexer": "ipython3",
   "version": "3.5.2"
  }
 },
 "nbformat": 4,
 "nbformat_minor": 2
}
